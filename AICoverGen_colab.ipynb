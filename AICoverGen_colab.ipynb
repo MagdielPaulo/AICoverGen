{
  "cells": [
    {
      "cell_type": "markdown",
      "metadata": {
        "id": "39k2mOCNAh6J"
      },
      "source": [
        "[![Open In Colab](https://colab.research.google.com/assets/colab-badge.svg)](https://colab.research.google.com/github/SociallyIneptWeeb/AICoverGen/blob/main/AICoverGen_colab.ipynb)"
      ]
    },
    {
      "cell_type": "markdown",
      "metadata": {
        "id": "YYVAKuNBc-X4"
      },
      "source": [
        "# AICoverGen WebUI\n",
        "\n",
        "Simply click `Runtime` in the top navigation bar and `Run all`. Wait for the output of the final cell to show the public gradio url and click on it."
      ]
    },
    {
      "cell_type": "code",
      "execution_count": 1,
      "metadata": {
        "cellView": "form",
        "id": "vC4gLMHI9xb3"
      },
      "outputs": [
        {
          "name": "stdout",
          "output_type": "stream",
          "text": [
            "Done Cloning Repository\n"
          ]
        }
      ],
      "source": [
        "#@title Clone repository\n",
        "from IPython.display import clear_output, Javascript\n",
        "import codecs\n",
        "import threading\n",
        "import time\n",
        "cloneing=codecs.decode('uggcf://tvguho.pbz/FbpvnyylVarcgJrro/NVPbireTra.tvg','rot_13')\n",
        "!git clone $cloneing HRVC\n",
        "def update_timer_and_print():\n",
        "    global timer\n",
        "    while True:\n",
        "        hours, remainder = divmod(timer, 3600)\n",
        "        minutes, seconds = divmod(remainder, 60)\n",
        "        timer_str = f'{hours:02}:{minutes:02}:{seconds:02}'\n",
        "        print(f'\\rTimer: {timer_str}', end='', flush=True)  # Print without a newline\n",
        "        time.sleep(1)\n",
        "        timer += 1\n",
        "timer = 0\n",
        "threading.Thread(target=update_timer_and_print, daemon=True).start()\n",
        "%cd HRVC\n",
        "clear_output()\n",
        "print(\"Done Cloning Repository\")"
      ]
    },
    {
      "cell_type": "code",
      "execution_count": 2,
      "metadata": {
        "cellView": "form",
        "id": "odzpJHpr_PaF"
      },
      "outputs": [
        {
          "name": "stdout",
          "output_type": "stream",
          "text": [
            "Finished running this cell, proceed to the next cell\n"
          ]
        }
      ],
      "source": [
        "#@title Install requirements\n",
        "!pip install -q -r requirements.txt\n",
        "!pip install gradio-client==0.8.1\n",
        "!pip install gradio==3.48.0\n",
        "# install cuda fix\n",
        "!python -m pip install ort-nightly-gpu --index-url=https://aiinfra.pkgs.visualstudio.com/PublicPackages/_packaging/ort-cuda-12-nightly/pypi/simple/\n",
        "clear_output()\n",
        "print(\"Finished Installing Requirements\")\n",
        "!sudo apt update\n",
        "clear_output()\n",
        "print(\"Finished Updating\")\n",
        "!sudo apt install sox\n",
        "clear_output()\n",
        "print(\"Finished running this cell, proceed to the next cell\")"
      ]
    },
    {
      "cell_type": "code",
      "execution_count": 3,
      "metadata": {
        "cellView": "form",
        "id": "SLWpcJc0AHSZ"
      },
      "outputs": [
        {
          "name": "stdout",
          "output_type": "stream",
          "text": [
            "Finished Downloading Voice Separation Model and Hubert Base Model\n"
          ]
        }
      ],
      "source": [
        "#@title Download MDXNet Vocal Separation and Hubert Base Models\n",
        "models=codecs.decode('fep/qbjaybnq_zbqryf.cl','rot_13')\n",
        "!python $models\n",
        "clear_output()\n",
        "print(\"Finished Downloading Voice Separation Model and Hubert Base Model\")"
      ]
    },
    {
      "cell_type": "code",
      "execution_count": 4,
      "metadata": {
        "cellView": "form",
        "id": "NEglTq6Ya9d0"
      },
      "outputs": [
        {
          "name": "stderr",
          "output_type": "stream",
          "text": [
            "Traceback (most recent call last):\n",
            "  File \"c:\\temp\\ws-python\\IACover\\AICoverGen\\HRVC\\src\\webui.py\", line 10, in <module>\n",
            "    from main import song_cover_pipeline\n",
            "  File \"c:\\temp\\ws-python\\IACover\\AICoverGen\\HRVC\\src\\main.py\", line 22, in <module>\n",
            "    from rvc import Config, load_hubert, get_vc, rvc_infer\n",
            "  File \"c:\\temp\\ws-python\\IACover\\AICoverGen\\HRVC\\src\\rvc.py\", line 5, in <module>\n",
            "    from fairseq import checkpoint_utils\n",
            "  File \"c:\\temp\\ws-python\\IACover\\env\\Lib\\site-packages\\fairseq\\__init__.py\", line 20, in <module>\n",
            "    from fairseq.distributed import utils as distributed_utils\n",
            "  File \"c:\\temp\\ws-python\\IACover\\env\\Lib\\site-packages\\fairseq\\distributed\\__init__.py\", line 7, in <module>\n",
            "    from .fully_sharded_data_parallel import (\n",
            "  File \"c:\\temp\\ws-python\\IACover\\env\\Lib\\site-packages\\fairseq\\distributed\\fully_sharded_data_parallel.py\", line 10, in <module>\n",
            "    from fairseq.dataclass.configs import DistributedTrainingConfig\n",
            "  File \"c:\\temp\\ws-python\\IACover\\env\\Lib\\site-packages\\fairseq\\dataclass\\__init__.py\", line 6, in <module>\n",
            "    from .configs import FairseqDataclass\n",
            "  File \"c:\\temp\\ws-python\\IACover\\env\\Lib\\site-packages\\fairseq\\dataclass\\configs.py\", line 1104, in <module>\n",
            "    @dataclass\n",
            "     ^^^^^^^^^\n",
            "  File \"C:\\Users\\Magdiel Paulo\\AppData\\Local\\Programs\\Python\\Python312\\Lib\\dataclasses.py\", line 1266, in dataclass\n",
            "    return wrap(cls)\n",
            "           ^^^^^^^^^\n",
            "  File \"C:\\Users\\Magdiel Paulo\\AppData\\Local\\Programs\\Python\\Python312\\Lib\\dataclasses.py\", line 1256, in wrap\n",
            "    return _process_class(cls, init, repr, eq, order, unsafe_hash,\n",
            "           ^^^^^^^^^^^^^^^^^^^^^^^^^^^^^^^^^^^^^^^^^^^^^^^^^^^^^^^\n",
            "  File \"C:\\Users\\Magdiel Paulo\\AppData\\Local\\Programs\\Python\\Python312\\Lib\\dataclasses.py\", line 994, in _process_class\n",
            "    cls_fields.append(_get_field(cls, name, type, kw_only))\n",
            "                      ^^^^^^^^^^^^^^^^^^^^^^^^^^^^^^^^^^^^\n",
            "  File \"C:\\Users\\Magdiel Paulo\\AppData\\Local\\Programs\\Python\\Python312\\Lib\\dataclasses.py\", line 852, in _get_field\n",
            "    raise ValueError(f'mutable default {type(f.default)} for field '\n",
            "ValueError: mutable default <class 'fairseq.dataclass.configs.CommonConfig'> for field common is not allowed: use default_factory\n"
          ]
        }
      ],
      "source": [
        "#@title Run WebUI\n",
        "runpice=codecs.decode('fep/jrohv.cl','rot_13')\n",
        "!python $runpice --share"
      ]
    }
  ],
  "metadata": {
    "accelerator": "GPU",
    "colab": {
      "provenance": []
    },
    "kernelspec": {
      "display_name": "Python 3",
      "name": "python3"
    },
    "language_info": {
      "codemirror_mode": {
        "name": "ipython",
        "version": 3
      },
      "file_extension": ".py",
      "mimetype": "text/x-python",
      "name": "python",
      "nbconvert_exporter": "python",
      "pygments_lexer": "ipython3",
      "version": "3.12.1"
    }
  },
  "nbformat": 4,
  "nbformat_minor": 0
}
